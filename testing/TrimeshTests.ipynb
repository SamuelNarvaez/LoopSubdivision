{
 "cells": [
  {
   "cell_type": "code",
   "execution_count": null,
   "metadata": {},
   "outputs": [],
   "source": [
    "from trimesh import *\n",
    "import numpy as np \n",
    "import matplotlib.pyplot as plt\n",
    "from mpl_toolkits.mplot3d import Axes3D, art3d\n",
    "import plotly.graph_objects as go\n",
    "import plotly.offline as pyo\n",
    "pyo.init_notebook_mode()\n",
    "from plotly.subplots import make_subplots\n",
    "from scipy.spatial import Delaunay\n",
    "from sklearn.preprocessing import StandardScaler\n",
    "import plotly.graph_objects as go"
   ]
  },
  {
   "cell_type": "code",
   "execution_count": null,
   "metadata": {},
   "outputs": [],
   "source": [
    "octahedron = np.array([[1,0,0],[-1,0,0],[0,1,0],[0,-1,0],[0,0,1],[0,0,-1]])\n",
    "octFaces = np.array([[1,2,4],[1,3,4],[3,0,4],[0,2,4],[1,3,5],[3,0,5],[0,2,5],[2,1,5]])\n",
    "oct0=Trimesh(octahedron,octFaces,ALPHA=1/2,BETA=1/8,GAMMA=-1/16)"
   ]
  },
  {
   "cell_type": "code",
   "execution_count": null,
   "metadata": {},
   "outputs": [],
   "source": [
    "oct0.closest_point_naive(np.array([0,1,1]))"
   ]
  },
  {
   "cell_type": "code",
   "execution_count": null,
   "metadata": {},
   "outputs": [],
   "source": [
    "tetrahedron = np.array([[np.sqrt(8/9),0,-1/3],[-np.sqrt(2/9),np.sqrt(2/3),-1/3],[-np.sqrt(2/9),-np.sqrt(2/3),-1/3],[0,0,1]])\n",
    "tetFaces = np.array([[0,1,2],[0,1,3],[1,2,3],[2,3,0]])\n",
    "tet0 = Trimesh(tetrahedron,tetFaces)"
   ]
  },
  {
   "cell_type": "code",
   "execution_count": null,
   "metadata": {},
   "outputs": [],
   "source": [
    "oct1 = oct0.subdivide(modified=True)\n",
    "oct2 = oct1.subdivide(modified=True)\n",
    "oct3 = oct2.subdivide(modified=True)\n",
    "#oct4 = oct3.subdivide(modified=True)"
   ]
  },
  {
   "cell_type": "code",
   "execution_count": null,
   "metadata": {},
   "outputs": [],
   "source": [
    "def surfacePlot(matrix,title=None):\n",
    "    matrix = np.rot90(np.rot90(matrix.T))\n",
    "    aspect = matrix.shape[1]/matrix.shape[0]\n",
    "    fig = go.Figure(data=[go.Surface(z=matrix)])\n",
    "    \n",
    "    camera = dict(eye=dict(x=0., y=0., z=2.5))\n",
    "    \n",
    "    if aspect>=1:\n",
    "        fig.update_layout(autosize=False,height=800,width=600,\n",
    "                          title=title,\n",
    "                          scene_aspectmode='data',\n",
    "                          margin=dict(l=65, r=50, b=65, t=90),\n",
    "                          scene_camera=camera)\n",
    "    else:\n",
    "        fig.update_layout(autosize=False,height=600,width=800,\n",
    "                          title=title,\n",
    "                          scene_aspectmode='data',\n",
    "                          margin=dict(l=65, r=50, b=65, t=90),\n",
    "                          scene_camera=camera)\n",
    "    fig.show()"
   ]
  },
  {
   "cell_type": "code",
   "execution_count": null,
   "metadata": {},
   "outputs": [],
   "source": [
    "fig, axs = plt.subplots(2,2,figsize=(10,10))\n",
    "for mesh in (oct1,oct2,oct3):\n",
    "    plane = np.isclose(mesh.vertices[:,2],np.zeros(mesh.vertices[:,2].shape))\n",
    "    P,Q,A,B = mesh.filters\n",
    "    azimuth = np.arctan2(mesh.vertices[:,1],mesh.vertices[:,0])[plane].flatten()\n",
    "    sorts = np.argsort(azimuth)\n",
    "    axs[0,0].plot(azimuth[sorts],A[0,:][plane].flatten()[sorts],'--o',label=f'Level {mesh.level-1}')\n",
    "    \n",
    "    axs[0,1].plot(azimuth[sorts],B[0,:][plane].flatten()[sorts],'--o',label=f'Level {mesh.level-1}')\n",
    "\n",
    "    axs[1,0].plot(azimuth[sorts],P[:,0][plane].flatten()[sorts],'--o',label=f'Level {mesh.level-1}')\n",
    "    \n",
    "    axs[1,1].plot(azimuth[sorts],Q[:,0][plane].flatten()[sorts],'--o',label=f'Level {mesh.level-1}')\n",
    "    \n",
    "axs[0,0].set_title('First Row of A')\n",
    "axs[0,1].set_title('First Row of B')\n",
    "axs[1,0].set_title('First Column of P')\n",
    "axs[1,1].set_title('First Column of Q')\n",
    "axs[0,0].legend()\n",
    "axs[0,1].legend()\n",
    "axs[1,0].legend()\n",
    "axs[1,1].legend()\n",
    "fig.tight_layout()"
   ]
  },
  {
   "cell_type": "code",
   "execution_count": null,
   "metadata": {},
   "outputs": [],
   "source": [
    "print('BIORTHOGONALITY TESTS \\n')\n",
    "for mesh in (oct1,oct2,oct3):\n",
    "    P,Q,A,B = mesh.filters\n",
    "    AB = np.vstack((A,B))\n",
    "    PQ = np.hstack((P,Q))\n",
    "    M = AB @ PQ\n",
    "    N = PQ @ AB\n",
    "    print(f':::: level {mesh.level} ::::')\n",
    "    print()\n",
    "    print('[[A][B]]@[PQ]== 1')\n",
    "    print(np.allclose(M, np.eye(M.shape[0])))\n",
    "    print()\n",
    "    print('[PQ]@[[A][B]]== 1')\n",
    "    print(np.allclose(N, np.eye(N.shape[0])))\n",
    "    print()\n",
    "    print('B @ P == 0')\n",
    "    BP = B@P\n",
    "    print(np.allclose(BP, np.zeros(BP.shape)))\n",
    "    print()\n",
    "    print('A @ Q == 0')\n",
    "    AQ = A@Q\n",
    "    print(np.allclose(AQ, np.zeros(AQ.shape)))\n",
    "    print()\n",
    "    print('A @ P == 1')\n",
    "    AP = A@P\n",
    "    print(np.allclose(AP, np.eye(AP.shape[0])))\n",
    "    print()\n",
    "    print('B @ Q == 1')\n",
    "    BQ = B@Q\n",
    "    print(np.allclose(BQ, np.eye(BQ.shape[0])))\n",
    "    print()\n",
    "    print('P@A + Q@B == 1')\n",
    "    print(np.allclose(P@A + Q@B,np.eye((P@A+Q@B).shape[0])))\n",
    "    print()"
   ]
  },
  {
   "cell_type": "code",
   "execution_count": null,
   "metadata": {},
   "outputs": [],
   "source": []
  }
 ],
 "metadata": {
  "kernelspec": {
   "display_name": "Python 3",
   "language": "python",
   "name": "python3"
  },
  "language_info": {
   "codemirror_mode": {
    "name": "ipython",
    "version": 3
   },
   "file_extension": ".py",
   "mimetype": "text/x-python",
   "name": "python",
   "nbconvert_exporter": "python",
   "pygments_lexer": "ipython3",
   "version": "3.8.5"
  }
 },
 "nbformat": 4,
 "nbformat_minor": 4
}
