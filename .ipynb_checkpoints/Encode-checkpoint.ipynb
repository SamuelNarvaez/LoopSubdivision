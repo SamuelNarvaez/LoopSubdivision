{
 "cells": [
  {
   "cell_type": "code",
   "execution_count": 1,
   "metadata": {},
   "outputs": [],
   "source": [
    "from trimesh import *\n",
    "from swf import *\n",
    "from optimal import *\n",
    "from utils import *\n",
    "import numpy as np\n",
    "import soundfile as sf\n",
    "from scipy import spatial\n",
    "import matplotlib.pyplot as plt\n",
    "\n",
    "import fileinput\n",
    "import sys\n",
    "\n",
    "def random_three_vector():\n",
    "    \"\"\"\n",
    "    Generates a random 3D unit vector (direction) with a uniform spherical distribution\n",
    "    Algo from http://stackoverflow.com/questions/5408276/python-uniform-spherical-distribution\n",
    "    :return:\n",
    "    \"\"\"\n",
    "    phi = np.random.uniform(0,np.pi*2)\n",
    "    costheta = np.random.uniform(-1,1)\n",
    "\n",
    "    theta = np.arccos( costheta )\n",
    "    x = np.sin( theta) * np.cos( phi )\n",
    "    y = np.sin( theta) * np.sin( phi )\n",
    "    z = np.cos( theta )\n",
    "    return (x,y,z)"
   ]
  },
  {
   "cell_type": "code",
   "execution_count": 2,
   "metadata": {},
   "outputs": [],
   "source": [
    "layout704=np.array([[1,np.pi/6,np.pi/2],[1,-np.pi/6,np.pi/2],[1,0,np.pi/2],[1,np.pi/2,np.pi/2],[1,-np.pi/2,np.pi/2],[1,3*np.pi/4,np.pi/2],[1,-3*np.pi/4,np.pi/2],[1,np.pi/4,np.pi/4],[1,-np.pi/4,np.pi/4],[1,3*np.pi/4,np.pi/4],[1,-3*np.pi/4,np.pi/4]])\n",
    "vertices704 = np.apply_along_axis(lambda x: toCartesian(x),1,layout704)\n",
    "faces704 = np.array([[6,4,10],[10,4,8],[8,4,1],[8,1,2],[8,7,2],[7,2,0],[7,0,3],[7,3,9],[9,3,5],[10,7,9],[10,8,7],[10,6,5],[10,9,5]])\n",
    "\n",
    "model = OptimalSWF(vertices704,faces704).model"
   ]
  },
  {
   "cell_type": "code",
   "execution_count": 124,
   "metadata": {},
   "outputs": [],
   "source": [
    "data, samplerate = sf.read('bossa.wav')\n",
    "data = np.hstack((data,data))\n",
    "#data = np.ones(data.shape) #to see gains\n",
    "tree = spatial.KDTree(model.meshes[-1].vertices)"
   ]
  },
  {
   "cell_type": "code",
   "execution_count": 4,
   "metadata": {},
   "outputs": [
    {
     "data": {
      "text/plain": [
       "\"\\n#Compute encoding for immobile point source \\nfine = np.zeros((model.meshes[-1].vertices.shape[0],data.shape[0]))\\nloc = tree.query([random_three_vector()])[1][0]\\nonehot = np.zeros((model.meshes[-1].vertices.shape[0],1))\\nonehot[:11] = -1\\nonehot[loc]=1\\nfine[loc] = data\\ncoarse = model.encode(fine)\\ncoarse = np.insert(coarse, 3, 0, axis=0) #add empty subwoofer channel for reproduction in the studio\\n\\n#weights3D(model.meshes[-1],onehot,'point source location') #graph it\\n\\nsf.write('pointSource.wav',coarse.T,samplerate)\\n\""
      ]
     },
     "execution_count": 4,
     "metadata": {},
     "output_type": "execute_result"
    }
   ],
   "source": [
    "'''\n",
    "#Compute encoding for immobile point source \n",
    "fine = np.zeros((model.meshes[-1].vertices.shape[0],data.shape[0]))\n",
    "loc = tree.query([random_three_vector()])[1][0]\n",
    "onehot = np.zeros((model.meshes[-1].vertices.shape[0],1))\n",
    "onehot[:11] = -1\n",
    "onehot[loc]=1\n",
    "fine[loc] = data\n",
    "coarse = model.encode(fine)\n",
    "coarse = np.insert(coarse, 3, 0, axis=0) #add empty subwoofer channel for reproduction in the studio\n",
    "\n",
    "#weights3D(model.meshes[-1],onehot,'point source location') #graph it\n",
    "\n",
    "sf.write('pointSource.wav',coarse.T,samplerate)\n",
    "'''"
   ]
  },
  {
   "cell_type": "code",
   "execution_count": 5,
   "metadata": {},
   "outputs": [
    {
     "data": {
      "text/plain": [
       "(512000, 3)"
      ]
     },
     "execution_count": 5,
     "metadata": {},
     "output_type": "execute_result"
    }
   ],
   "source": [
    "#Compute a Horizontal Panning\n",
    "fine = np.zeros((model.meshes[-1].vertices.shape[0],data.shape[0])) #empty multichannel array to eventually fill\n",
    "theta = np.linspace(0,2*np.pi,data.shape[0])\n",
    "x = np.cos(theta) #x component of the circular panning \n",
    "y = np.sin(theta) #y component of the circular panning \n",
    "\n",
    "horizontalPanning = np.vstack((x,y,np.zeros(theta.shape[0]))).T #the circle in R3 w/ z=0\n",
    "\n",
    "dist, ind = tree.query(horizontalPanning, k=3) #3 nearest neighbors distances and indices\n",
    "\n",
    "dist.shape"
   ]
  },
  {
   "cell_type": "code",
   "execution_count": 6,
   "metadata": {},
   "outputs": [
    {
     "data": {
      "text/plain": [
       "Text(0.5, 1.0, 'Zero-Centered Distance of closest neighbor')"
      ]
     },
     "execution_count": 6,
     "metadata": {},
     "output_type": "execute_result"
    },
    {
     "data": {
      "image/png": "[encoded data removed]",
      "text/plain": [
       "<Figure size 432x288 with 1 Axes>"
      ]
     },
     "metadata": {
      "needs_background": "light"
     },
     "output_type": "display_data"
    }
   ],
   "source": [
    "plt.plot(np.fft.fftshift(dist.sum(axis=1)))\n",
    "plt.title('Zero-Centered Distance of closest neighbor')"
   ]
  },
  {
   "cell_type": "code",
   "execution_count": 107,
   "metadata": {},
   "outputs": [],
   "source": [
    "def AreaTRI(TRI):\n",
    "    TR = TRI[:,1] - TRI[:,0] #get the TR vector of the triangle TRI\n",
    "    TI = TRI[:,2] - TRI[:,0] #get the TI vector of the triangle TRI\n",
    "    return np.linalg.norm(np.cross(TR,TI),axis=1)/2 #Area of the triangle TRI\n",
    "\n",
    "PQR = model.meshes[-1].vertices[ind] #get vertex locations in R3 for the 3 nearest neighbors P,Q,R\n",
    "AreaPQR = AreaTRI(PQR) #Area of PQR\n",
    "\n",
    "PQ = PQR[:,1] - PQR[:,0] #get the PQ vector of the triangle PQR\n",
    "PR = PQR[:,2] - PQR[:,0] #get the PR vector of the triangle PQR\n",
    "normals = np.cross(PQ,PR) #get the normal vector for the plane defined by the triangle PQR\n",
    "unitNormals = normals/np.linalg.norm(normals,axis=1).reshape(-1,1) #normal vector of unit length defined by PQR\n",
    "d = -1 * np.sum(PQR[:,0,:]*unitNormals,axis=1)\n",
    "scalarDist = np.sum(unitNormals*(horizontalPanning-PQR[:,0,:]),axis=1) #scalar distance from panning point to plane along the normal\n",
    "\n",
    "projection = horizontalPanning - scalarDist.reshape(-1,1)*unitNormals #projection of panning point onto the plane defined by triangle PQR\n",
    "\n",
    "#projection = horizontalPanning - (unitNormals ⋅ (horizontalPanning - P)) * unitNormals\n",
    "\n",
    "S = projection.reshape(-1,1,3) #reshaped for use in the area calculations\n",
    "\n",
    "SQR = np.hstack((S,PQR[:,1:,:])) #The triangle SQR defined by the panning point S and its two furthest neighbors\n",
    "PSR = np.hstack((PQR[:,0,:].reshape(-1,1,3),S,PQR[:,2,:].reshape(-1,1,3))) #The triangle PSR defined by S and its closest and furthest neighbors\n",
    "PQS = np.hstack((PQR[:,:2,:],S)) #The triangle PQS defined by S and its two closest neighbors\n",
    "\n",
    "AreaSQR = AreaTRI(SQR) #area of SQR\n",
    "AreaPSR = AreaTRI(PSR) #area of PSR\n",
    "AreaPQS = AreaTRI(PQS) #area of PQS\n",
    "\n",
    "interpolation = np.vstack((AreaSQR/AreaPQR,AreaPSR/AreaPQR,AreaPQS/AreaPQR)).T "
   ]
  },
  {
   "cell_type": "code",
   "execution_count": 113,
   "metadata": {},
   "outputs": [],
   "source": [
    "#fig = plt.figure()\n",
    "#ax = fig.add_subplot(projection='3d')\n",
    "#ax.scatter(PQR[:,:,0][316000],PQR[:,:,1][316000],PQR[:,:,2][316000])\n",
    "#ax.scatter(S[:,:,0][316000],S[:,:,1][316000],S[:,:,2][316000])"
   ]
  },
  {
   "cell_type": "code",
   "execution_count": 121,
   "metadata": {},
   "outputs": [],
   "source": [
    "interpolation = dist/dist.sum(axis=1).reshape(-1,1)"
   ]
  },
  {
   "cell_type": "code",
   "execution_count": 125,
   "metadata": {},
   "outputs": [],
   "source": [
    "for i in range(data.shape[0]):\n",
    "    fine[ind[i],i] = data[i]*interpolation[i]\n",
    "coarse = model.encode(fine)\n",
    "coarse = np.insert(coarse, 3, 0, axis=0) #add empty subwoofer channel for reproduction in the studio\n",
    "\n",
    "sf.write('horizontalPan.wav',coarse.T,samplerate)"
   ]
  },
  {
   "cell_type": "code",
   "execution_count": null,
   "metadata": {},
   "outputs": [],
   "source": [
    "def triangle(i):\n",
    "    result = np.zeros(fine.shape[0])\n",
    "    result[ind[i]] = 1\n",
    "    return result\n",
    "\n",
    "weights3D(model.meshes[-1],triangle(50000),'interp triangle') #graph it"
   ]
  },
  {
   "cell_type": "code",
   "execution_count": null,
   "metadata": {},
   "outputs": [],
   "source": [
    "#save encoder and vertex arrays for use in Max MSP\n",
    "encoder = model.phi2s[0]\n",
    "np.savetxt('encoder.txt',encoder,newline=';\\n')\n",
    "for line in fileinput.input('encoder.txt',inplace=True):\n",
    "    sys.stdout.write('%d, %s'%(fileinput.filelineno(), line))\n",
    "np.savetxt('vertices.txt',model.meshes[-1].vertices,newline=';\\n')\n",
    "for line in fileinput.input('vertices.txt',inplace=True):\n",
    "    sys.stdout.write('%d, %s'%(fileinput.filelineno(), line))"
   ]
  },
  {
   "cell_type": "code",
   "execution_count": null,
   "metadata": {},
   "outputs": [],
   "source": []
  },
  {
   "cell_type": "code",
   "execution_count": null,
   "metadata": {},
   "outputs": [],
   "source": []
  },
  {
   "cell_type": "code",
   "execution_count": null,
   "metadata": {},
   "outputs": [],
   "source": []
  },
  {
   "cell_type": "code",
   "execution_count": null,
   "metadata": {},
   "outputs": [],
   "source": []
  }
 ],
 "metadata": {
  "kernelspec": {
   "display_name": "Python 3",
   "language": "python",
   "name": "python3"
  },
  "language_info": {
   "codemirror_mode": {
    "name": "ipython",
    "version": 3
   },
   "file_extension": ".py",
   "mimetype": "text/x-python",
   "name": "python",
   "nbconvert_exporter": "python",
   "pygments_lexer": "ipython3",
   "version": "3.8.5"
  }
 },
 "nbformat": 4,
 "nbformat_minor": 4
}
