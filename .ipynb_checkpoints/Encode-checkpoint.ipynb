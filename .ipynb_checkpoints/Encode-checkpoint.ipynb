{
 "cells": [
  {
   "cell_type": "code",
   "execution_count": 1,
   "metadata": {},
   "outputs": [],
   "source": [
    "from trimesh import *\n",
    "from swf import *\n",
    "from optimal import *\n",
    "from utils import *\n",
    "import numpy as np\n",
    "import soundfile as sf\n",
    "from scipy import spatial\n",
    "\n",
    "import fileinput\n",
    "import sys\n",
    "\n",
    "def random_three_vector():\n",
    "    \"\"\"\n",
    "    Generates a random 3D unit vector (direction) with a uniform spherical distribution\n",
    "    Algo from http://stackoverflow.com/questions/5408276/python-uniform-spherical-distribution\n",
    "    :return:\n",
    "    \"\"\"\n",
    "    phi = np.random.uniform(0,np.pi*2)\n",
    "    costheta = np.random.uniform(-1,1)\n",
    "\n",
    "    theta = np.arccos( costheta )\n",
    "    x = np.sin( theta) * np.cos( phi )\n",
    "    y = np.sin( theta) * np.sin( phi )\n",
    "    z = np.cos( theta )\n",
    "    return (x,y,z)"
   ]
  },
  {
   "cell_type": "code",
   "execution_count": 2,
   "metadata": {},
   "outputs": [],
   "source": [
    "layout704=np.array([[1,np.pi/6,np.pi/2],[1,-np.pi/6,np.pi/2],[1,0,np.pi/2],[1,np.pi/2,np.pi/2],[1,-np.pi/2,np.pi/2],[1,3*np.pi/4,np.pi/2],[1,-3*np.pi/4,np.pi/2],[1,np.pi/4,np.pi/4],[1,-np.pi/4,np.pi/4],[1,3*np.pi/4,np.pi/4],[1,-3*np.pi/4,np.pi/4]])\n",
    "vertices704 = np.apply_along_axis(lambda x: toCartesian(x),1,layout704)\n",
    "faces704 = np.array([[6,4,10],[10,4,8],[8,4,1],[8,1,2],[8,7,2],[7,2,0],[7,0,3],[7,3,9],[9,3,5],[10,7,9],[10,8,7],[10,6,5],[10,9,5]])\n",
    "\n",
    "model = OptimalSWF(vertices704,faces704).model"
   ]
  },
  {
   "cell_type": "code",
   "execution_count": 3,
   "metadata": {},
   "outputs": [],
   "source": [
    "data, samplerate = sf.read('bossa.wav')\n",
    "tree = spatial.KDTree(model.meshes[-1].vertices)"
   ]
  },
  {
   "cell_type": "code",
   "execution_count": 4,
   "metadata": {},
   "outputs": [],
   "source": [
    "#Compute encoding for immobile point source \n",
    "fine = np.zeros((model.meshes[-1].vertices.shape[0],data.shape[0]))\n",
    "loc = tree.query([random_three_vector()])[1][0]\n",
    "onehot = np.zeros((model.meshes[-1].vertices.shape[0],1))\n",
    "onehot[:11] = -1\n",
    "onehot[loc]=1\n",
    "fine[loc] = data\n",
    "coarse = model.encode(fine)\n",
    "coarse = np.insert(coarse, 3, 0, axis=0) #add empty subwoofer channel for reproduction in the studio\n",
    "\n",
    "#weights3D(model.meshes[-1],onehot,'point source location') #graph it\n",
    "\n",
    "sf.write('pointSource.wav',coarse.T,samplerate)"
   ]
  },
  {
   "cell_type": "code",
   "execution_count": 5,
   "metadata": {},
   "outputs": [],
   "source": [
    "#Compute a Horizontal Panning\n",
    "fine = np.zeros((model.meshes[-1].vertices.shape[0],data.shape[0]))\n",
    "theta = np.linspace(0,2*np.pi,data.shape[0])\n",
    "x = np.cos(theta)\n",
    "y = np.sin(theta)\n",
    "\n",
    "horizontalPanning = np.vstack((x,y,np.zeros(theta.shape[0]))).T\n",
    "\n",
    "dist, ind = tree.query(horizontalPanning, k=3) \n",
    "\n",
    "vxtot = model.meshes[-1].vertices[ind]\n",
    "vxtot[:,:,2] = 1\n",
    "Atot = np.abs(np.linalg.det(vxtot))/2\n",
    "panningVerts = horizontalPanning.reshape((-1,1,3))\n",
    "panningVerts[:,:,2] = 1\n",
    "\n",
    "A0 = np.abs(np.linalg.det(np.hstack((panningVerts,vxtot[:,1:,:]))))/2\n",
    "A1 = np.abs(np.linalg.det(np.hstack((vxtot[:,0,:].reshape(-1,1,3),panningVerts,vxtot[:,2,:].reshape(-1,1,3)))))/2\n",
    "A2 = np.abs(np.linalg.det(np.hstack((vxtot[:,:2,:],panningVerts))))/2\n",
    "\n",
    "interpolation = np.vstack((A0/Atot,A1/Atot,A2/Atot)).T\n",
    "for i in range(data.shape[0]):\n",
    "    fine[ind[i],i] = data[i]*interpolation[i]\n",
    "coarse = model.encode(fine)\n",
    "coarse = np.insert(coarse, 3, 0, axis=0) #add empty subwoofer channel for reproduction in the studio\n",
    "\n",
    "sf.write('horizontalPan.wav',coarse.T,samplerate)"
   ]
  },
  {
   "cell_type": "code",
   "execution_count": null,
   "metadata": {},
   "outputs": [],
   "source": []
  },
  {
   "cell_type": "code",
   "execution_count": 6,
   "metadata": {},
   "outputs": [],
   "source": [
    "#save encoder and vertex arrays for use in Max MSP\n",
    "encoder = model.phi2s[0]\n",
    "np.savetxt('encoder.txt',encoder,newline=';\\n')\n",
    "for line in fileinput.input('encoder.txt',inplace=True):\n",
    "    sys.stdout.write('%d, %s'%(fileinput.filelineno(), line))\n",
    "np.savetxt('vertices.txt',model.meshes[-1].vertices,newline=';\\n')\n",
    "for line in fileinput.input('vertices.txt',inplace=True):\n",
    "    sys.stdout.write('%d, %s'%(fileinput.filelineno(), line))"
   ]
  },
  {
   "cell_type": "code",
   "execution_count": null,
   "metadata": {},
   "outputs": [],
   "source": []
  },
  {
   "cell_type": "code",
   "execution_count": null,
   "metadata": {},
   "outputs": [],
   "source": []
  },
  {
   "cell_type": "code",
   "execution_count": null,
   "metadata": {},
   "outputs": [],
   "source": []
  },
  {
   "cell_type": "code",
   "execution_count": null,
   "metadata": {},
   "outputs": [],
   "source": []
  }
 ],
 "metadata": {
  "kernelspec": {
   "display_name": "Python 3",
   "language": "python",
   "name": "python3"
  },
  "language_info": {
   "codemirror_mode": {
    "name": "ipython",
    "version": 3
   },
   "file_extension": ".py",
   "mimetype": "text/x-python",
   "name": "python",
   "nbconvert_exporter": "python",
   "pygments_lexer": "ipython3",
   "version": "3.8.5"
  }
 },
 "nbformat": 4,
 "nbformat_minor": 4
}
