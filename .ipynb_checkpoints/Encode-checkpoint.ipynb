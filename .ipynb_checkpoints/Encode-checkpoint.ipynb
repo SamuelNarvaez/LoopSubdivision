{
 "cells": [
  {
   "cell_type": "code",
   "execution_count": 6,
   "metadata": {},
   "outputs": [],
   "source": [
    "from trimesh import *\n",
    "from swf import *\n",
    "from optimal import *\n",
    "from utils import *\n",
    "import numpy as np\n",
    "import soundfile as sf\n",
    "from scipy import spatial\n",
    "\n",
    "def random_three_vector():\n",
    "    \"\"\"\n",
    "    Generates a random 3D unit vector (direction) with a uniform spherical distribution\n",
    "    Algo from http://stackoverflow.com/questions/5408276/python-uniform-spherical-distribution\n",
    "    :return:\n",
    "    \"\"\"\n",
    "    phi = np.random.uniform(0,np.pi*2)\n",
    "    costheta = np.random.uniform(-1,1)\n",
    "\n",
    "    theta = np.arccos( costheta )\n",
    "    x = np.sin( theta) * np.cos( phi )\n",
    "    y = np.sin( theta) * np.sin( phi )\n",
    "    z = np.cos( theta )\n",
    "    return (x,y,z)"
   ]
  },
  {
   "cell_type": "code",
   "execution_count": 2,
   "metadata": {},
   "outputs": [],
   "source": [
    "data, samplerate = sf.read('guitarscale.wav')\n",
    "\n",
    "layout704=np.array([[1,0,np.pi/2],[1,np.pi/6,np.pi/2],[1,-np.pi/6,np.pi/2],[1,np.pi/2,np.pi/2],[1,-np.pi/2,np.pi/2],[1,3*np.pi/4,np.pi/2],[1,-3*np.pi/4,np.pi/2],[1,np.pi/4,np.pi/4],[1,-np.pi/4,np.pi/4],[1,3*np.pi/4,np.pi/4],[1,-3*np.pi/4,np.pi/4]])\n",
    "vertices704 = np.apply_along_axis(lambda x: toCartesian(x),1,layout704)\n",
    "faces704 = np.array([[6,4,10],[10,4,8],[8,4,2],[8,2,0],[8,7,0],[7,0,1],[7,1,3],[7,3,9],[9,3,5],[10,7,9],[10,8,7],[10,6,5],[10,9,5]])\n",
    "\n",
    "model = OptimalSWF(vertices704,faces704).model"
   ]
  },
  {
   "cell_type": "code",
   "execution_count": null,
   "metadata": {},
   "outputs": [],
   "source": []
  },
  {
   "cell_type": "code",
   "execution_count": 18,
   "metadata": {},
   "outputs": [],
   "source": [
    "fine = np.zeros((model.meshes[-1].vertices.shape[0],data.shape[0]))\n",
    "tree = spatial.KDTree(model.meshes[-1].vertices)\n",
    "loc = tree.query([random_three_vector()])[1][0]\n",
    "onehot = np.zeros((model.meshes[-1].vertices.shape[0],1))\n",
    "onehot[loc]=1\n",
    "fine[loc] = data\n",
    "res = model.encode(fine)"
   ]
  },
  {
   "cell_type": "code",
   "execution_count": 19,
   "metadata": {},
   "outputs": [
    {
     "data": {
      "text/plain": [
       "(11, 352800)"
      ]
     },
     "execution_count": 19,
     "metadata": {},
     "output_type": "execute_result"
    }
   ],
   "source": [
    "res.shape"
   ]
  },
  {
   "cell_type": "code",
   "execution_count": 21,
   "metadata": {},
   "outputs": [],
   "source": [
    "sf.write('encoded.wav',res.T,samplerate)"
   ]
  },
  {
   "cell_type": "code",
   "execution_count": null,
   "metadata": {},
   "outputs": [],
   "source": []
  }
 ],
 "metadata": {
  "kernelspec": {
   "display_name": "Python 3",
   "language": "python",
   "name": "python3"
  },
  "language_info": {
   "codemirror_mode": {
    "name": "ipython",
    "version": 3
   },
   "file_extension": ".py",
   "mimetype": "text/x-python",
   "name": "python",
   "nbconvert_exporter": "python",
   "pygments_lexer": "ipython3",
   "version": "3.8.5"
  }
 },
 "nbformat": 4,
 "nbformat_minor": 4
}
