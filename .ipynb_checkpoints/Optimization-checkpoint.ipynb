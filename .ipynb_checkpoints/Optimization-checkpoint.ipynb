{
 "cells": [
  {
   "cell_type": "code",
   "execution_count": null,
   "metadata": {},
   "outputs": [],
   "source": [
    "from swf import *\n",
    "from utils import *\n",
    "import matplotlib.pyplot as plt\n",
    "import numpy as np\n",
    "from scipy.optimize import curve_fit,lsq_linear,brute\n",
    "from scipy.sparse.linalg import LinearOperator\n",
    "from scipy.stats import norm\n",
    "import plotly.express as px\n",
    "import pandas as pd"
   ]
  },
  {
   "cell_type": "code",
   "execution_count": null,
   "metadata": {},
   "outputs": [],
   "source": [
    "octvertices = np.array([[1,0,0],[-1,0,0],[0,1,0],[0,-1,0],[0,0,1],[0,0,-1]])\n",
    "octfaces = np.array([[1,2,4],[1,3,4],[3,0,4],[0,2,4],[1,3,5],[3,0,5],[0,2,5],[2,1,5]])\n",
    "\n",
    "layout704=np.array([[1,0,np.pi/2],[1,np.pi/6,np.pi/2],[1,-np.pi/6,np.pi/2],[1,np.pi/2,np.pi/2],[1,-np.pi/2,np.pi/2],[1,3*np.pi/4,np.pi/2],[1,-3*np.pi/4,np.pi/2],[1,np.pi/4,np.pi/4],[1,-np.pi/4,np.pi/4],[1,3*np.pi/4,np.pi/4],[1,-3*np.pi/4,np.pi/4]])\n",
    "vertices704 = np.apply_along_axis(lambda x: toCartesian(x),1,layout704)\n",
    "faces704 = np.array([[6,4,10],[10,4,8],[8,4,2],[8,2,0],[8,7,0],[7,0,1],[7,1,3],[7,3,9],[9,3,5],[10,7,9],[10,8,7],[10,6,5],[10,9,5]])"
   ]
  },
  {
   "cell_type": "code",
   "execution_count": null,
   "metadata": {},
   "outputs": [],
   "source": [
    "def optimizeOCT(coeffs):\n",
    "    print('.',end='')\n",
    "    ALPHA, BETA = coeffs\n",
    "    GAMMA = (1-2*(ALPHA+BETA))/4\n",
    "    if checkCoeffRelations(ALPHA,BETA,GAMMA):\n",
    "        mesh = Trimesh(octvertices,octfaces,ALPHA=ALPHA,BETA=BETA,GAMMA=GAMMA)\n",
    "        model = SWF(mesh, n=3)\n",
    "        return cost(model,1,1)\n",
    "    else:\n",
    "        return 100"
   ]
  },
  {
   "cell_type": "code",
   "execution_count": null,
   "metadata": {},
   "outputs": [],
   "source": [
    "A = LinearOperator((1,2),optimizeOCT)\n",
    "A"
   ]
  },
  {
   "cell_type": "code",
   "execution_count": null,
   "metadata": {},
   "outputs": [],
   "source": [
    "aDist = norm(loc=0.62, scale=0.01)\n",
    "bDist = norm(loc=-0.01, scale=0.01)\n",
    "aRVS = aDist.rvs(size=1200).reshape((-1,1))\n",
    "bRVS = bDist.rvs(size=1200).reshape((-1,1))\n",
    "v = np.hstack((aRVS,bRVS))\n",
    "b = np.array([])\n",
    "for i in range(1200):\n",
    "    b = np.append(b,A.matvec(v[i]))"
   ]
  },
  {
   "cell_type": "code",
   "execution_count": null,
   "metadata": {},
   "outputs": [],
   "source": [
    "df = pd.DataFrame(np.hstack((v,b.reshape(-1,1))),columns=['a','b','cost'])\n",
    "fig = px.scatter_3d(df[df.cost<0.0014], x=\"a\", y=\"b\", z='cost',color='cost')\n",
    "fig.show()"
   ]
  },
  {
   "cell_type": "code",
   "execution_count": null,
   "metadata": {},
   "outputs": [],
   "source": [
    "df[df.cost ==df['cost'].min()]"
   ]
  },
  {
   "cell_type": "code",
   "execution_count": null,
   "metadata": {},
   "outputs": [],
   "source": [
    "def optimize704(coeffs):\n",
    "    print('.',end='')\n",
    "    ALPHA, BETA = coeffs\n",
    "    GAMMA = (1-2*(ALPHA+BETA))/4\n",
    "    if checkCoeffRelations(ALPHA,BETA,GAMMA):\n",
    "        mesh = Trimesh(vertices704,faces704,ALPHA=ALPHA,BETA=BETA,GAMMA=GAMMA)\n",
    "        model = SWF(mesh, n=3)\n",
    "        return cost(model,1,1)\n",
    "    else:\n",
    "        return 100"
   ]
  },
  {
   "cell_type": "code",
   "execution_count": null,
   "metadata": {},
   "outputs": [],
   "source": [
    "B = LinearOperator((1,2),optimize704)\n",
    "B"
   ]
  },
  {
   "cell_type": "code",
   "execution_count": null,
   "metadata": {},
   "outputs": [],
   "source": [
    "aDist = norm(loc=0.55, scale=0.01)\n",
    "bDist = norm(loc=0.03, scale=0.01)\n",
    "aRVS = aDist.rvs(size=1200).reshape((-1,1))\n",
    "bRVS = bDist.rvs(size=1200).reshape((-1,1))\n",
    "v = np.hstack((aRVS,bRVS))\n",
    "b = np.array([])\n",
    "for i in range(1200):\n",
    "    b = np.append(b,B.matvec(v[i]))"
   ]
  },
  {
   "cell_type": "code",
   "execution_count": null,
   "metadata": {},
   "outputs": [],
   "source": [
    "df2 = pd.DataFrame(np.hstack((v,b.reshape(-1,1))),columns=['a','b','cost'])\n",
    "fig = px.scatter_3d(df2[df2.cost<0.009], x=\"a\", y=\"b\", z='cost',color='cost')\n",
    "fig.show()"
   ]
  },
  {
   "cell_type": "code",
   "execution_count": null,
   "metadata": {},
   "outputs": [],
   "source": [
    "df2[df2.cost ==df2['cost'].min()]"
   ]
  },
  {
   "cell_type": "code",
   "execution_count": null,
   "metadata": {},
   "outputs": [],
   "source": []
  }
 ],
 "metadata": {
  "kernelspec": {
   "display_name": "Python 3",
   "language": "python",
   "name": "python3"
  },
  "language_info": {
   "codemirror_mode": {
    "name": "ipython",
    "version": 3
   },
   "file_extension": ".py",
   "mimetype": "text/x-python",
   "name": "python",
   "nbconvert_exporter": "python",
   "pygments_lexer": "ipython3",
   "version": "3.8.5"
  }
 },
 "nbformat": 4,
 "nbformat_minor": 4
}
