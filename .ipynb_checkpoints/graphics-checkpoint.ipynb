{
 "cells": [
  {
   "cell_type": "code",
   "execution_count": null,
   "metadata": {},
   "outputs": [],
   "source": [
    "from trimesh import Trimesh\n",
    "import numpy as np \n",
    "import matplotlib.pyplot as plt\n",
    "from mpl_toolkits.mplot3d import Axes3D, art3d\n",
    "import plotly.graph_objects as go\n",
    "import plotly.offline as pyo\n",
    "pyo.init_notebook_mode()\n",
    "from plotly.subplots import make_subplots\n",
    "from scipy.spatial import Delaunay\n",
    "from sklearn.preprocessing import StandardScaler"
   ]
  },
  {
   "cell_type": "code",
   "execution_count": null,
   "metadata": {},
   "outputs": [],
   "source": [
    "#!jupyter labextension install jupyterlab-plotly"
   ]
  },
  {
   "cell_type": "code",
   "execution_count": null,
   "metadata": {},
   "outputs": [],
   "source": [
    "plane0 = Trimesh(np.array([[0,0,0],[1,0,0],[0,1,0],[1,1,0]]),np.array([[0,1,2],[1,3,2]]))\n",
    "print(plane0)\n",
    "plane1 = plane0.subdivide(False)\n",
    "plane2 = plane1.subdivide(False)"
   ]
  },
  {
   "cell_type": "code",
   "execution_count": null,
   "metadata": {},
   "outputs": [],
   "source": [
    "print(plane1)"
   ]
  },
  {
   "cell_type": "code",
   "execution_count": null,
   "metadata": {},
   "outputs": [],
   "source": [
    "v0 = plane0.vertices\n",
    "\n",
    "f0 = plane0.faces\n",
    "\n",
    "v1 = plane1.vertices\n",
    "\n",
    "f1 = plane1.faces\n",
    "\n",
    "v2 = plane2.vertices\n",
    "\n",
    "f2 = plane2.faces\n",
    "\n",
    "\n",
    "\n",
    "fig = plt.figure(figsize = (18,6))\n",
    "\n",
    "\n",
    "ax0 = fig.add_subplot(131,projection=\"3d\")\n",
    "pc0 = art3d.Poly3DCollection(v0[f0], edgecolor=\"black\")\n",
    "ax0.add_collection(pc0)\n",
    "ax0.set_xlim3d(-0.5, 0.5)\n",
    "ax0.set_ylim3d(-0.5, 0.5)\n",
    "ax0.set_zlim3d(-0.5, 0.5)\n",
    "\n",
    "ax1 = fig.add_subplot(132,projection=\"3d\")\n",
    "pc1 = art3d.Poly3DCollection(v1[f1], facecolors='red', edgecolor=\"black\")\n",
    "ax1.add_collection(pc1)\n",
    "ax1.set_xlim3d(-0.5, 0.5)\n",
    "ax1.set_ylim3d(-0.5, 0.5)\n",
    "ax1.set_zlim3d(-0.5, 0.5)\n",
    "\n",
    "ax2 = fig.add_subplot(133,projection=\"3d\")\n",
    "pc2 = art3d.Poly3DCollection(v2[f2], facecolors='purple', edgecolor=\"black\")\n",
    "ax2.add_collection(pc2)\n",
    "ax2.set_xlim3d(-0.5, 0.5)\n",
    "ax2.set_ylim3d(-0.5, 0.5)\n",
    "ax2.set_zlim3d(-0.5, 0.5)\n",
    "\n",
    "\n",
    "plt.show()"
   ]
  },
  {
   "cell_type": "code",
   "execution_count": null,
   "metadata": {},
   "outputs": [],
   "source": [
    "tet = np.array([[np.sqrt(8/9),0,-1/3],[-np.sqrt(2/9),np.sqrt(2/3),-1/3],[-np.sqrt(2/9),-np.sqrt(2/3),-1/3],[0,0,1]])\n",
    "\n",
    "tet0=Trimesh(tet,np.array([[0,1,2],[0,1,3],[1,2,3],[2,3,0]]))\n",
    "tet1=tet0.subdivide(project_to_sphere=True)\n",
    "tet2=tet1.subdivide(True)"
   ]
  },
  {
   "cell_type": "code",
   "execution_count": null,
   "metadata": {},
   "outputs": [],
   "source": [
    "def showMesh(mesh,name=''):  \n",
    "    x = mesh.vertices[:,0]\n",
    "    y = mesh.vertices[:,1]\n",
    "    z = mesh.vertices[:,2]\n",
    "    i = mesh.faces[:,0]\n",
    "    j = mesh.faces[:,1]\n",
    "    k = mesh.faces[:,2]\n",
    "\n",
    "    verts = mesh.vertices\n",
    "    faces = mesh.faces\n",
    "\n",
    "    fig = make_subplots(\n",
    "              rows=1, cols=2, \n",
    "              subplot_titles=(f'{name} Level {mesh.level} 3D Mesh', f'{name} Level {mesh.level} 3D Mesh with faces colored'),\n",
    "              horizontal_spacing=0.02,\n",
    "              specs=[[{\"type\": \"scene\"}]*2])  \n",
    "\n",
    "    #plot surface triangulation\n",
    "    tri_vertices = verts[faces]\n",
    "    Xe = []\n",
    "    Ye = []\n",
    "    Ze = []\n",
    "    for T in tri_vertices:\n",
    "        Xe += [T[k%3][0] for k in range(4)] + [ None]\n",
    "        Ye += [T[k%3][1] for k in range(4)] + [ None]\n",
    "        Ze += [T[k%3][2] for k in range(4)] + [ None]\n",
    "\n",
    "\n",
    "    fig.add_trace(go.Scatter3d(x=Xe,\n",
    "                         y=Ye,\n",
    "                         z=Ze,\n",
    "                         mode='lines',\n",
    "                         name='',\n",
    "                         line=dict(color= 'rgb(40,40,40)', width=0.5)), 1, 1);\n",
    "\n",
    "    lighting = dict(ambient=0.5,\n",
    "                    diffuse=1,\n",
    "                    fresnel=4,        \n",
    "                    specular=0.5,\n",
    "                    roughness=0.05,\n",
    "                    facenormalsepsilon=0)\n",
    "    lightposition=dict(x=100,\n",
    "                       y=100,\n",
    "                       z=10000)\n",
    "\n",
    "    fig.add_trace(go.Mesh3d(x=x, y=y, z=z, \n",
    "                            i=i, j=j, k=k, colorscale='matter_r' ,\n",
    "                            colorbar_len=0.85,\n",
    "                            colorbar_x=0.97,\n",
    "                            colorbar_thickness=20,\n",
    "                            intensity=np.random.rand(len(faces)),  \n",
    "                            intensitymode='cell',\n",
    "                            flatshading=True), 1, 2)\n",
    "    fig.data[1].update(lighting=lighting,\n",
    "                       lightposition=lightposition)                         \n",
    "\n",
    "\n",
    "    fig.update_layout(width=1000, height=600, font_size=10)\n",
    "    fig.update_scenes(camera_eye_x=1.45, camera_eye_y=1.45, camera_eye_z=1.45);\n",
    "    fig.update_scenes(xaxis_visible=False, yaxis_visible=False,zaxis_visible=False )\n",
    "\n",
    "    fig.show()"
   ]
  },
  {
   "cell_type": "code",
   "execution_count": null,
   "metadata": {},
   "outputs": [],
   "source": [
    "showMesh(tet0, \"Tetrahedron\")"
   ]
  },
  {
   "cell_type": "code",
   "execution_count": null,
   "metadata": {},
   "outputs": [],
   "source": [
    "showMesh(tet1,\"Tetrahedron\")"
   ]
  },
  {
   "cell_type": "code",
   "execution_count": null,
   "metadata": {},
   "outputs": [],
   "source": [
    "showMesh(tet2,\"Tetrahedron\")"
   ]
  },
  {
   "cell_type": "code",
   "execution_count": null,
   "metadata": {},
   "outputs": [],
   "source": [
    "showMesh(tet2.subdivide(True),\"Tetrahedron\")"
   ]
  },
  {
   "cell_type": "code",
   "execution_count": null,
   "metadata": {},
   "outputs": [],
   "source": [
    "octahedron = np.array([[1,0,0],[-1,0,0],[0,1,0],[0,-1,0],[0,0,1],[0,0,-1]])"
   ]
  },
  {
   "cell_type": "code",
   "execution_count": null,
   "metadata": {},
   "outputs": [],
   "source": [
    "oct0=Trimesh(octahedron,np.array([[1,2,4],[1,3,4],[3,0,4],[0,2,4],[1,3,5],[3,0,5],[0,2,5],[2,1,5]]))"
   ]
  },
  {
   "cell_type": "code",
   "execution_count": null,
   "metadata": {},
   "outputs": [],
   "source": [
    "showMesh(oct0,\"Octahedron\")"
   ]
  },
  {
   "cell_type": "code",
   "execution_count": null,
   "metadata": {},
   "outputs": [],
   "source": [
    "oct1 = oct0.subdivide(True)\n",
    "oct2 = oct1.subdivide(True)"
   ]
  },
  {
   "cell_type": "code",
   "execution_count": null,
   "metadata": {},
   "outputs": [],
   "source": [
    "showMesh(oct1,\"Octahedron\")"
   ]
  },
  {
   "cell_type": "code",
   "execution_count": null,
   "metadata": {},
   "outputs": [],
   "source": [
    "showMesh(oct2,\"Octahedron\")"
   ]
  },
  {
   "cell_type": "code",
   "execution_count": null,
   "metadata": {},
   "outputs": [],
   "source": [
    "oct2.vertices.shape"
   ]
  },
  {
   "cell_type": "code",
   "execution_count": null,
   "metadata": {},
   "outputs": [],
   "source": [
    "def toCartesian(point):\n",
    "        x = point[0]*np.cos(point[1])*np.sin(point[2])\n",
    "        y = point[0]*np.sin(point[1])*np.sin(point[2])\n",
    "        z = point[0]*np.cos(point[2])\n",
    "        return np.array([x,y,z])"
   ]
  },
  {
   "cell_type": "code",
   "execution_count": null,
   "metadata": {},
   "outputs": [],
   "source": [
    "#radius, azimuth in radians, elevation in radians of 7.0.4 surround sound\n",
    "layout704=np.array([[1,0,np.pi/2],\n",
    "[1,np.pi/6,np.pi/2],\n",
    "[1,-np.pi/6,np.pi/2],\n",
    "[1,np.pi/2,np.pi/2],\n",
    "[1,-np.pi/2,np.pi/2],\n",
    "[1,3*np.pi/4,np.pi/2],\n",
    "[1,-3*np.pi/4,np.pi/2],\n",
    "[1,np.pi/4,np.pi/4],\n",
    "[1,-np.pi/4,np.pi/4],\n",
    "[1,3*np.pi/4,np.pi/4],\n",
    "[1,-3*np.pi/4,np.pi/4]])"
   ]
  },
  {
   "cell_type": "code",
   "execution_count": null,
   "metadata": {},
   "outputs": [],
   "source": [
    "cart = np.apply_along_axis(lambda x: toCartesian(x),1,layout704)"
   ]
  },
  {
   "cell_type": "code",
   "execution_count": null,
   "metadata": {},
   "outputs": [],
   "source": [
    "cart"
   ]
  },
  {
   "cell_type": "code",
   "execution_count": null,
   "metadata": {},
   "outputs": [],
   "source": [
    "delaunay_faces = Delaunay(cart).convex_hull #computes the delaunay triangulation of the given points and returns the faces of the convex hull"
   ]
  },
  {
   "cell_type": "code",
   "execution_count": null,
   "metadata": {},
   "outputs": [],
   "source": [
    "delaunay_faces"
   ]
  },
  {
   "cell_type": "code",
   "execution_count": null,
   "metadata": {},
   "outputs": [],
   "source": [
    "#or manually:\n",
    "manual_faces = np.array([[6,4,10],[10,4,8],[8,4,2],[8,2,0],[8,7,0],[7,0,1],[7,1,3],[7,3,9],[9,3,5],[10,7,9],[10,8,7],[10,6,5],[10,9,5]])"
   ]
  },
  {
   "cell_type": "code",
   "execution_count": null,
   "metadata": {},
   "outputs": [],
   "source": [
    "surr0 = Trimesh(cart,manual_faces)"
   ]
  },
  {
   "cell_type": "code",
   "execution_count": null,
   "metadata": {},
   "outputs": [],
   "source": [
    "showMesh(surr0, \"7.0.4 Surround Sound\")"
   ]
  },
  {
   "cell_type": "code",
   "execution_count": null,
   "metadata": {},
   "outputs": [],
   "source": [
    "surr1 = surr0.subdivide(True)\n",
    "surr2 = surr1.subdivide(True)\n",
    "surr3 = surr2.subdivide(True)"
   ]
  },
  {
   "cell_type": "code",
   "execution_count": null,
   "metadata": {},
   "outputs": [],
   "source": [
    "showMesh(surr1, \"7.0.4 Surround Sound\")"
   ]
  },
  {
   "cell_type": "code",
   "execution_count": null,
   "metadata": {},
   "outputs": [],
   "source": [
    "showMesh(surr2, \"7.0.4 Surround Sound\")"
   ]
  },
  {
   "cell_type": "code",
   "execution_count": null,
   "metadata": {},
   "outputs": [],
   "source": [
    "showMesh(surr3, \"7.0.4 Surround Sound\")"
   ]
  },
  {
   "cell_type": "code",
   "execution_count": null,
   "metadata": {},
   "outputs": [],
   "source": []
  }
 ],
 "metadata": {
  "kernelspec": {
   "display_name": "Python 3",
   "language": "python",
   "name": "python3"
  },
  "language_info": {
   "codemirror_mode": {
    "name": "ipython",
    "version": 3
   },
   "file_extension": ".py",
   "mimetype": "text/x-python",
   "name": "python",
   "nbconvert_exporter": "python",
   "pygments_lexer": "ipython3",
   "version": "3.8.5"
  }
 },
 "nbformat": 4,
 "nbformat_minor": 4
}
