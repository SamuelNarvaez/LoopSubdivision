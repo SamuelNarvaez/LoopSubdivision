{
 "cells": [
  {
   "cell_type": "code",
   "execution_count": 1,
   "metadata": {},
   "outputs": [],
   "source": [
    "from utils import *\n",
    "from trimesh import *\n",
    "from optimal import OptimalSWF\n",
    "from swf import *\n",
    "\n",
    "import numpy as np\n",
    "import matplotlib.pyplot as plt"
   ]
  },
  {
   "cell_type": "code",
   "execution_count": 2,
   "metadata": {},
   "outputs": [],
   "source": [
    "subdivs = 11\n",
    "upper = 4\n",
    "base = np.linspace(0,(2*np.pi)*((subdivs-1)/subdivs),subdivs)\n",
    "up = np.linspace(0,(2*np.pi)*((upper-1)/upper),upper)"
   ]
  },
  {
   "cell_type": "code",
   "execution_count": 3,
   "metadata": {},
   "outputs": [],
   "source": [
    "x_base = np.cos(base)\n",
    "y_base = np.sin(base)\n",
    "z_base = np.zeros(x_base.shape)\n",
    "horiz = np.vstack((x_base,y_base,z_base)).T"
   ]
  },
  {
   "cell_type": "code",
   "execution_count": 4,
   "metadata": {},
   "outputs": [],
   "source": [
    "x_up = np.cos(up+np.pi/4)\n",
    "y_up = np.sin(up+np.pi/4)\n",
    "z_up = np.zeros(x_up.shape)\n",
    "z_up.fill(np.sqrt(0.5))\n",
    "overhead = np.vstack((x_up,y_up,z_up)).T\n",
    "overhead = np.vstack((np.linspace(overhead[0],overhead[1],4),np.linspace(overhead[2],overhead[3],4)))"
   ]
  },
  {
   "cell_type": "code",
   "execution_count": 5,
   "metadata": {},
   "outputs": [],
   "source": [
    "v = np.vstack((horiz,overhead))\n",
    "re_idx = [1,10,0,5,6,12,17,3,8,13,16,2,9,11,18,4,7,14,15]\n",
    "v = v[re_idx]\n",
    "v_3_0 = v[:3]\n",
    "v_5_0 = v[:5]\n",
    "v_5_2 = v[:7]\n",
    "v_7_4 = v[:11]\n",
    "v_9_6 = v[:15]\n",
    "v_11_8 = v"
   ]
  },
  {
   "cell_type": "code",
   "execution_count": 6,
   "metadata": {},
   "outputs": [],
   "source": [
    "f_3_0 = np.array([[0,1,2]])\n",
    "f_5_0 = np.array([[0,3,2],[2,3,4],[2,4,1]])\n",
    "f_5_2 = np.array([[0,5,2],[2,5,6],[2,6,1],[0,3,5],[5,3,6],[6,3,4],[6,4,1]])\n",
    "f_7_4 = np.array([[0,7,5],[2,0,5],[2,5,6],[2,6,1],[1,6,8],[5,7,9],[6,5,9],[6,9,10],[6,10,8],[7,9,3],\n",
    "                 [9,10,3],[10,3,4],[10,8,4]])\n",
    "f_9_6 = np.array([[0,11,13],[0,13,2],[2,13,14],[2,14,1],[1,14,12],[11,13,5],[11,7,5],[13,14,5],[14,5,6],[14,12,6],\n",
    "                 [12,6,8],[5,7,9],[5,6,9],[6,9,10],[6,8,10],[7,9,3],[9,10,3],[10,3,4],[10,8,4]])\n",
    "f_11_8 = np.array([[0,13,2],[2,13,14],[2,14,1],[0,11,13],[11,5,13],[5,14,13],[5,6,14],[6,12,14],[14,12,1],[11,7,5],\n",
    "             [7,9,5],[9,6,5],[9,10,6],[10,8,6],[8,12,6],[7,15,9],[15,17,9],[17,10,9],[17,18,10],[18,16,10],\n",
    "             [16,8,10],[15,3,17],[3,18,17],[3,4,18],[4,16,18]])"
   ]
  },
  {
   "cell_type": "code",
   "execution_count": null,
   "metadata": {},
   "outputs": [],
   "source": []
  }
 ],
 "metadata": {
  "kernelspec": {
   "display_name": "Python 3",
   "language": "python",
   "name": "python3"
  },
  "language_info": {
   "codemirror_mode": {
    "name": "ipython",
    "version": 3
   },
   "file_extension": ".py",
   "mimetype": "text/x-python",
   "name": "python",
   "nbconvert_exporter": "python",
   "pygments_lexer": "ipython3",
   "version": "3.8.5"
  }
 },
 "nbformat": 4,
 "nbformat_minor": 4
}
